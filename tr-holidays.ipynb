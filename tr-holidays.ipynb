{
 "cells": [
  {
   "cell_type": "code",
   "execution_count": null,
   "id": "c7b92c9a-bd7c-43f2-9668-f2ddfb4ab088",
   "metadata": {},
   "outputs": [],
   "source": [
    "m = Prophet(holidays=holidays)\n",
    "m.add_country_holidays(country_name='TR')\n",
    "m.fit(df)"
   ]
  },
  {
   "cell_type": "code",
   "execution_count": null,
   "id": "d84f2348-64a8-45a9-a85a-fbc4315688d4",
   "metadata": {},
   "outputs": [],
   "source": [
    "m.train_holiday_names"
   ]
  },
  {
   "cell_type": "markdown",
   "id": "1aa94b1a-c02c-4326-8345-945dc0ba3d5e",
   "metadata": {},
   "source": [
    "1. **Playoff**: Spor organizasyonlarında şampiyonluk için yapılan eleme maçları.\n",
    "2. **Super Bowl**: Amerikan futbolunun final maçı, büyük bir spor etkinliği.\n",
    "3. **New Year's Day**: 1 Ocak, yeni yılın ilk günü, resmi tatil.\n",
    "4. **National Sovereignty and Children's Day**: 23 Nisan, Türkiye'de Ulusal Egemenlik ve Çocuk Bayramı.\n",
    "5. **Labour and Solidarity Day**: 1 Mayıs, işçilerin haklarını kutladığı gün, resmi tatil.\n",
    "6. **Commemoration of Atatürk, Youth and Sports Day**: 19 Mayıs, Atatürk'ün Samsun'a çıkışını ve Türk gençliğini kutlayan bayram.\n",
    "7. **Victory Day**: 30 Ağustos, Türk Kurtuluş Savaşı'ndaki zaferi kutlayan gün.\n",
    "8. **Republic Day**: 29 Ekim, Türkiye Cumhuriyeti'nin kuruluşu, büyük kutlama günü.\n",
    "9. **Eid al-Fitr**: Ramazan Bayramı, orucun bitiminde kutlanan dini bayram.\n",
    "10. **Eid al-Adha**: Kurban Bayramı, Hazreti İbrahim'in kurbanını anmak için kutlanan dini bayram."
   ]
  },
  {
   "cell_type": "code",
   "execution_count": null,
   "id": "8ee1e0ae-d78e-46ea-b66d-44fc1999a6a6",
   "metadata": {},
   "outputs": [],
   "source": []
  }
 ],
 "metadata": {
  "kernelspec": {
   "display_name": "Python 3 (ipykernel)",
   "language": "python",
   "name": "python3"
  },
  "language_info": {
   "codemirror_mode": {
    "name": "ipython",
    "version": 3
   },
   "file_extension": ".py",
   "mimetype": "text/x-python",
   "name": "python",
   "nbconvert_exporter": "python",
   "pygments_lexer": "ipython3",
   "version": "3.9.20"
  }
 },
 "nbformat": 4,
 "nbformat_minor": 5
}
