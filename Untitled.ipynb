{
 "cells": [
  {
   "cell_type": "code",
   "execution_count": null,
   "id": "2867edf6-a6b1-4e5d-8013-f4f9ba583f8a",
   "metadata": {},
   "outputs": [],
   "source": [
    "## bazı dönemlerde artışlar fazla olabilir"
   ]
  },
  {
   "cell_type": "code",
   "execution_count": null,
   "id": "5f07c51d-9d55-4046-98d8-20517f370d72",
   "metadata": {},
   "outputs": [],
   "source": [
    "def is_nfl_season(ds):\n",
    "    date = pd.to_datetime(ds)\n",
    "    return (date.month > 8 or date.month < 2)\n",
    "\n",
    "df['on_season'] = df['ds'].apply(is_nfl_season)\n",
    "df['off_season'] = ~df['ds'].apply(is_nfl_season)\n"
   ]
  },
  {
   "cell_type": "code",
   "execution_count": null,
   "id": "abec5080-5333-4b29-b86b-958dcc57a1c1",
   "metadata": {},
   "outputs": [],
   "source": [
    "from prophet import Prophet\n",
    "\n",
    "# Prophet modelini tanımla\n",
    "m = Prophet(weekly_seasonality=False)\n",
    "\n",
    "# Günlük sezonsallık ekle (on_season ve off_season için)\n",
    "m.add_seasonality(name='daily_on_season', period=1, fourier_order=3, condition_name='on_season')\n",
    "m.add_seasonality(name='daily_off_season', period=1, fourier_order=3, condition_name='off_season')\n",
    "\n",
    "# future veri çerçevesine on_season ve off_season koşullarını ekle\n",
    "future['on_season'] = future['ds'].apply(is_nfl_season)  # On-season durumu\n",
    "future['off_season'] = ~future['ds'].apply(is_nfl_season)  # Off-season durumu\n",
    "\n",
    "# Modeli eğit ve tahmin yap\n",
    "forecast = m.fit(df).predict(future)\n",
    "\n",
    "# Sonuçları görselleştir\n",
    "fig = m.plot_components(forecast)"
   ]
  },
  {
   "cell_type": "code",
   "execution_count": null,
   "id": "1cda81f0-fad3-4cb8-87dd-5d5215333810",
   "metadata": {},
   "outputs": [],
   "source": []
  }
 ],
 "metadata": {
  "kernelspec": {
   "display_name": "Python 3 (ipykernel)",
   "language": "python",
   "name": "python3"
  },
  "language_info": {
   "codemirror_mode": {
    "name": "ipython",
    "version": 3
   },
   "file_extension": ".py",
   "mimetype": "text/x-python",
   "name": "python",
   "nbconvert_exporter": "python",
   "pygments_lexer": "ipython3",
   "version": "3.9.20"
  }
 },
 "nbformat": 4,
 "nbformat_minor": 5
}
